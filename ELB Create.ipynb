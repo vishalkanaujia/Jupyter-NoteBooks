{
 "cells": [
  {
   "cell_type": "code",
   "execution_count": null,
   "metadata": {},
   "outputs": [],
   "source": [
    "elb-cli --zone in-chennai-1 elb describe --app-id prod-d42bk --vip 10.47.2.33\n",
    "Executing command: elb describe\n",
    "\n",
    "vip : 10.47.2.33\n",
    "vip-name : rgw-a\n",
    "app-id : prod-d42bk\n",
    "scope : REGIONAL\n",
    "capacity: 30 k rps\n",
    "\n",
    "- front-end-port :80\n",
    "    mode :http\n",
    "    proxy-name :rgw-a-reverseproxy\n",
    "    frontend-dashboard : http://10.47.4.24/dashboard/script/elb_frontend_new.js?stack=v2&frontend=prod-d42bk___rgw-a-reverseproxy\n",
    "\n",
    "    backend-service-name: rgw-a-backend\n",
    "    backend-port : 80\n",
    "    instance-groups:\n",
    "        - rgw-a\n",
    "    backend-dashboard : http://10.47.4.24/dashboard/script/elb_backend_new.js?stack=v2&backend=prod-d42bk___rgw-a-backend\n",
    "\n",
    "    health-check-path : /\n",
    "    health-check-port : 80\n",
    "    health-check-interval : 1 s\n",
    "    health-check-timeout : 6000 ms"
   ]
  }
 ],
 "metadata": {
  "kernelspec": {
   "display_name": "Python 2",
   "language": "python",
   "name": "python2"
  },
  "language_info": {
   "codemirror_mode": {
    "name": "ipython",
    "version": 2
   },
   "file_extension": ".py",
   "mimetype": "text/x-python",
   "name": "python",
   "nbconvert_exporter": "python",
   "pygments_lexer": "ipython2",
   "version": "2.7.14"
  }
 },
 "nbformat": 4,
 "nbformat_minor": 2
}
