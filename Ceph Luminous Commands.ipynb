{
 "cells": [
  {
   "cell_type": "code",
   "execution_count": null,
   "metadata": {},
   "outputs": [],
   "source": [
    "for i in $(inventory prod-d42bk rgw-b|cut -d\" \" -f 2|cut -d\"\\\"\" -f1); \n",
    "do ssh $i sudo /etc/init.d/radosgw restart; sleep 1; \n",
    "done"
   ]
  },
  {
   "cell_type": "code",
   "execution_count": null,
   "metadata": {},
   "outputs": [],
   "source": [
    "vishal.kanaujia@iaas-cli-0001:~$ elb-cli --zone in-chennai-1 elb describe --app-id prod-d42bk --vip 10.47.6.136\n",
    "Executing command: elb describe\n",
    "\n",
    "vip : 10.47.6.136\n",
    "vip-name : prod-rgw-b1-luminous\n",
    "app-id : prod-d42bk\n",
    "scope : REGIONAL\n",
    "capacity: 7.5 k rps\n",
    "\n",
    "- front-end-port :443\n",
    "    mode :http\n",
    "    proxy-name :prod-rgw-b1-luminous\n",
    "    frontend-dashboard : http://10.47.4.24/dashboard/script/elb_frontend_new.js?stack=v2&frontend=prod-d42bk___prod-rgw-b1-luminous\n",
    "\n",
    "    backend-service-name: prod-rgw-b1-luminous\n",
    "    backend-port : 80\n",
    "    instance-groups:\n",
    "        - rgw-bb1\n",
    "    backend-dashboard : http://10.47.4.24/dashboard/script/elb_backend_new.js?stack=v2&backend=prod-d42bk___prod-rgw-b1-luminous\n",
    "\n",
    "    health-check-path : /\n",
    "    health-check-port : 80\n",
    "    health-check-interval : 5 s\n",
    "    health-check-timeout : 1000 ms\n",
    "\n",
    "- front-end-port :80\n",
    "    mode :http\n",
    "    proxy-name :prod-rgw-b1-luminous-80\n",
    "    frontend-dashboard : http://10.47.4.24/dashboard/script/elb_frontend_new.js?stack=v2&frontend=prod-d42bk___prod-rgw-b1-luminous-80\n",
    "\n",
    "    backend-service-name: prod-rgw-b1-luminous-80\n",
    "    backend-port : 80\n",
    "    instance-groups:\n",
    "        - rgw-b1\n",
    "    backend-dashboard : http://10.47.4.24/dashboard/script/elb_backend_new.js?stack=v2&backend=prod-d42bk___prod-rgw-b1-luminous-80\n",
    "\n",
    "    health-check-path : /\n",
    "    health-check-port : 80\n",
    "    health-check-interval : 5 s\n",
    "    health-check-timeout : 1000 ms"
   ]
  }
 ],
 "metadata": {
  "kernelspec": {
   "display_name": "Python 2",
   "language": "python",
   "name": "python2"
  },
  "language_info": {
   "codemirror_mode": {
    "name": "ipython",
    "version": 2
   },
   "file_extension": ".py",
   "mimetype": "text/x-python",
   "name": "python",
   "nbconvert_exporter": "python",
   "pygments_lexer": "ipython2",
   "version": "2.7.14"
  }
 },
 "nbformat": 4,
 "nbformat_minor": 2
}
